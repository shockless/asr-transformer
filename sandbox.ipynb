{
 "cells": [
  {
   "cell_type": "code",
   "execution_count": 1,
   "id": "a660f920-4dde-43c8-b7ba-517ef76ab722",
   "metadata": {
    "execution": {
     "iopub.execute_input": "2023-05-18T11:25:16.278349Z",
     "iopub.status.busy": "2023-05-18T11:25:16.278176Z",
     "iopub.status.idle": "2023-05-18T11:25:17.267612Z",
     "shell.execute_reply": "2023-05-18T11:25:17.267134Z",
     "shell.execute_reply.started": "2023-05-18T11:25:16.278331Z"
    },
    "tags": []
   },
   "outputs": [
    {
     "data": {
      "text/plain": [
       "True"
      ]
     },
     "execution_count": 1,
     "metadata": {},
     "output_type": "execute_result"
    }
   ],
   "source": [
    "import torch\n",
    "import torchaudio\n",
    "\n",
    "from torch.optim import AdamW\n",
    "from torch.utils.data import DataLoader\n",
    "\n",
    "from torch import nn\n",
    "\n",
    "import pandas as pd\n",
    "import numpy as np\n",
    "\n",
    "from tqdm.auto import tqdm\n",
    "\n",
    "from sklearn.model_selection import KFold, StratifiedKFold\n",
    "\n",
    "from transformers import PreTrainedTokenizerFast\n",
    "\n",
    "from transformers import get_cosine_schedule_with_warmup\n",
    "\n",
    "from modules.Transformer.model import Transformer\n",
    "from modules.Transformer.train import train_epoch, eval_epoch\n",
    "from modules.dataset import AudioDataset\n",
    "\n",
    "import random\n",
    "import os\n",
    "\n",
    "\n",
    "import wandb\n",
    "\n",
    "torch.cuda.is_available()"
   ]
  },
  {
   "cell_type": "code",
   "execution_count": 2,
   "id": "a553996c-2adf-44b8-a894-a1f6a2ceb5a2",
   "metadata": {
    "execution": {
     "iopub.execute_input": "2023-05-18T11:25:17.268329Z",
     "iopub.status.busy": "2023-05-18T11:25:17.268151Z",
     "iopub.status.idle": "2023-05-18T11:25:17.270670Z",
     "shell.execute_reply": "2023-05-18T11:25:17.270239Z",
     "shell.execute_reply.started": "2023-05-18T11:25:17.268316Z"
    },
    "tags": []
   },
   "outputs": [],
   "source": [
    "path_to_tokenizer = './tokenizer.json'\n",
    "path_to_data = './audio_dataset/'\n",
    "\n",
    "data = pd.read_csv(os.path.join(path_to_data,'df.csv'), usecols=['text','status','path','rate','duration','frames'])\n",
    "data = data[data.status=='APPROVED'].reset_index(drop=True)\n",
    "del data['status']\n",
    "data.text = data.text.apply(lambda x: \"\".join([char for char in x if char.isalpha() or char==' ']).lower())\n",
    "data.duration.max()\n",
    "\n",
    "train_data = data.iloc[:350]\n",
    "valid_data = data.iloc[70000:]"
   ]
  },
  {
   "cell_type": "code",
   "execution_count": 3,
   "id": "9e324020-a3e7-46b8-9228-7cdf8b766904",
   "metadata": {
    "execution": {
     "iopub.execute_input": "2023-05-18T11:25:18.259359Z",
     "iopub.status.busy": "2023-05-18T11:25:18.258861Z",
     "iopub.status.idle": "2023-05-18T11:25:19.342932Z",
     "shell.execute_reply": "2023-05-18T11:25:19.342378Z",
     "shell.execute_reply.started": "2023-05-18T11:25:18.259345Z"
    },
    "tags": []
   },
   "outputs": [],
   "source": [
    "# import matplotlib.pyplot as plt\n",
    "# import seaborn as sns\n",
    "# sns.displot(data.text.str.len())\n",
    "# plt.show()dd\n",
    "# sns.displot(data.duration)\n",
    "# plt.show()"
   ]
  },
  {
   "cell_type": "code",
   "execution_count": 4,
   "id": "e8268447-41ef-4582-9100-4e0afb378fb7",
   "metadata": {
    "execution": {
     "iopub.execute_input": "2023-05-18T11:25:19.343930Z",
     "iopub.status.busy": "2023-05-18T11:25:19.343621Z",
     "iopub.status.idle": "2023-05-18T11:25:19.363838Z",
     "shell.execute_reply": "2023-05-18T11:25:19.363307Z",
     "shell.execute_reply.started": "2023-05-18T11:25:19.343911Z"
    },
    "tags": []
   },
   "outputs": [
    {
     "data": {
      "text/plain": [
       "135.0"
      ]
     },
     "execution_count": 4,
     "metadata": {},
     "output_type": "execute_result"
    }
   ],
   "source": [
    "np.percentile(data.text.str.len(), 99.5)"
   ]
  },
  {
   "cell_type": "code",
   "execution_count": 5,
   "id": "e94db526",
   "metadata": {},
   "outputs": [],
   "source": [
    "def weights_init_xavier(m):\n",
    "    '''\n",
    "    Xavier uniform\n",
    "    '''\n",
    "    classname = m.__class__.__name__\n",
    "\n",
    "    if classname.find('Linear') != -1:\n",
    "        torch.nn.init.xavier_uniform_(m.weight)"
   ]
  },
  {
   "cell_type": "code",
   "execution_count": 6,
   "id": "1f94ee00-973a-4a23-ae2a-a0cef7807450",
   "metadata": {
    "execution": {
     "iopub.execute_input": "2023-05-18T11:25:19.461107Z",
     "iopub.status.busy": "2023-05-18T11:25:19.460893Z",
     "iopub.status.idle": "2023-05-18T11:25:19.583274Z",
     "shell.execute_reply": "2023-05-18T11:25:19.582767Z",
     "shell.execute_reply.started": "2023-05-18T11:25:19.461089Z"
    },
    "scrolled": true,
    "tags": []
   },
   "outputs": [
    {
     "name": "stdout",
     "output_type": "stream",
     "text": [
      "1563 40\n"
     ]
    },
    {
     "data": {
      "text/plain": [
       "Transformer(\n",
       "  (vgg): Sequential(\n",
       "    (0): Conv2d(1, 16, kernel_size=(3, 3), stride=(1, 1), padding=(1, 1))\n",
       "    (1): ReLU()\n",
       "    (2): Conv2d(16, 16, kernel_size=(3, 3), stride=(1, 1), padding=(1, 1))\n",
       "    (3): ReLU()\n",
       "    (4): MaxPool2d(kernel_size=2, stride=2, padding=0, dilation=1, ceil_mode=False)\n",
       "    (5): Conv2d(16, 32, kernel_size=(3, 3), stride=(1, 1), padding=(1, 1))\n",
       "    (6): ReLU()\n",
       "    (7): Conv2d(32, 32, kernel_size=(3, 3), stride=(1, 1), padding=(1, 1))\n",
       "    (8): ReLU()\n",
       "    (9): MaxPool2d(kernel_size=2, stride=2, padding=0, dilation=1, ceil_mode=False)\n",
       "  )\n",
       "  (encoder): Encoder(\n",
       "    (lin_in): Linear(in_features=40, out_features=40, bias=True)\n",
       "    (norm_in): LayerNorm((40,), eps=1e-05, elementwise_affine=True)\n",
       "    (pe): TrainablePositionalEncoding()\n",
       "    (layers): ModuleList(\n",
       "      (0-1): 2 x EncoderLayer(\n",
       "        (attention): MHA(\n",
       "          (dropout): Dropout(p=0.0, inplace=False)\n",
       "          (heads): ModuleList(\n",
       "            (0-2): 3 x MHAHead(\n",
       "              (v): Linear(in_features=40, out_features=40, bias=True)\n",
       "              (q): Linear(in_features=40, out_features=40, bias=True)\n",
       "              (k): Linear(in_features=40, out_features=40, bias=True)\n",
       "              (dropout): Dropout(p=0.0, inplace=False)\n",
       "            )\n",
       "          )\n",
       "          (out): Linear(in_features=120, out_features=40, bias=True)\n",
       "        )\n",
       "        (norm1): LayerNorm((40,), eps=1e-05, elementwise_affine=True)\n",
       "        (ff): FeedForward(\n",
       "          (squeeze): Linear(in_features=40, out_features=128, bias=True)\n",
       "          (ReLU): ReLU()\n",
       "          (dropout): Dropout(p=0.0, inplace=False)\n",
       "          (unsqueeze): Linear(in_features=128, out_features=40, bias=True)\n",
       "        )\n",
       "        (norm2): LayerNorm((40,), eps=1e-05, elementwise_affine=True)\n",
       "      )\n",
       "    )\n",
       "  )\n",
       "  (decoder): Decoder(\n",
       "    (emb): Embedding(250, 40, padding_idx=4)\n",
       "    (pe): TrainablePositionalEncoding()\n",
       "    (dropout): Dropout(p=0.0, inplace=False)\n",
       "    (layers): ModuleList(\n",
       "      (0-1): 2 x DecoderLayer(\n",
       "        (mask_attention): MHA(\n",
       "          (dropout): Dropout(p=0.0, inplace=False)\n",
       "          (heads): ModuleList(\n",
       "            (0-2): 3 x MHAHead(\n",
       "              (v): Linear(in_features=40, out_features=40, bias=True)\n",
       "              (q): Linear(in_features=40, out_features=40, bias=True)\n",
       "              (k): Linear(in_features=40, out_features=40, bias=True)\n",
       "              (dropout): Dropout(p=0.0, inplace=False)\n",
       "            )\n",
       "          )\n",
       "          (out): Linear(in_features=120, out_features=40, bias=True)\n",
       "        )\n",
       "        (norm1): LayerNorm((40,), eps=1e-05, elementwise_affine=True)\n",
       "        (attention): MHA(\n",
       "          (dropout): Dropout(p=0.0, inplace=False)\n",
       "          (heads): ModuleList(\n",
       "            (0-2): 3 x MHAHead(\n",
       "              (v): Linear(in_features=40, out_features=40, bias=True)\n",
       "              (q): Linear(in_features=40, out_features=40, bias=True)\n",
       "              (k): Linear(in_features=40, out_features=40, bias=True)\n",
       "              (dropout): Dropout(p=0.0, inplace=False)\n",
       "            )\n",
       "          )\n",
       "          (out): Linear(in_features=120, out_features=40, bias=True)\n",
       "        )\n",
       "        (norm2): LayerNorm((40,), eps=1e-05, elementwise_affine=True)\n",
       "        (ff): FeedForward(\n",
       "          (squeeze): Linear(in_features=40, out_features=128, bias=True)\n",
       "          (ReLU): ReLU()\n",
       "          (dropout): Dropout(p=0.0, inplace=False)\n",
       "          (unsqueeze): Linear(in_features=128, out_features=40, bias=True)\n",
       "        )\n",
       "        (norm3): LayerNorm((40,), eps=1e-05, elementwise_affine=True)\n",
       "      )\n",
       "    )\n",
       "    (classifier): Linear(in_features=40, out_features=250, bias=False)\n",
       "  )\n",
       ")"
      ]
     },
     "execution_count": 6,
     "metadata": {},
     "output_type": "execute_result"
    }
   ],
   "source": [
    "device = torch.device('cuda' if torch.cuda.is_available() else 'cpu')\n",
    "\n",
    "tokenizer = PreTrainedTokenizerFast(tokenizer_file=path_to_tokenizer, \n",
    "                                    padding_side ='right',\n",
    "                                    bos_token = '[SOS]',\n",
    "                                    eos_token = '[EOS]',\n",
    "                                    pad_token = '[PAD]',\n",
    "                                    unk_token = '[UNK]',\n",
    "                                    mask_token = '[MASK]')\n",
    "\n",
    "\n",
    "train_dataset = AudioDataset(train_data, path_to_data, tokenizer, \n",
    "                             n_fft=512,\n",
    "                             n_mels=40, \n",
    "                             center=True, \n",
    "                             max_tokenized_length=100, \n",
    "                             max_audio_len=25, \n",
    "                             sr=16000)\n",
    "valid_dataset = AudioDataset(valid_data, path_to_data, tokenizer, \n",
    "                             n_fft=512, \n",
    "                             n_mels=128, \n",
    "                             center=True, \n",
    "                             max_tokenized_length=100, \n",
    "                             max_audio_len=25, \n",
    "                             sr=16000)\n",
    "model = Transformer(vocab_size=len(tokenizer),\n",
    "                    n_mels=40,\n",
    "                    enc_seq_len=25, \n",
    "                    dec_seq_len=100,\n",
    "                    hidden_dim=16, \n",
    "                    enc_num_layers=2, \n",
    "                    dec_num_layers=2, \n",
    "                    num_heads=3, \n",
    "                    ff_dim=128, \n",
    "                    device=device,\n",
    "                    dropout=0.0, \n",
    "                    sr=16000, \n",
    "                    n_fft=512,\n",
    "                    padding_idx=tokenizer.pad_token_id)\n",
    "\n",
    "\n",
    "        #.bias.data.fill_(0.01)\n",
    "model.apply(weights_init_xavier)"
   ]
  },
  {
   "cell_type": "markdown",
   "id": "9fef55a1-3645-448c-beee-565d8cc5ee39",
   "metadata": {},
   "source": [
    "n_fft=1024, win_lenght=1024, hop_lenght=256, n_mels=64, center=True):"
   ]
  },
  {
   "cell_type": "code",
   "execution_count": 7,
   "id": "59d6466c",
   "metadata": {},
   "outputs": [],
   "source": [
    "torch.cuda.empty_cache()"
   ]
  },
  {
   "cell_type": "code",
   "execution_count": 8,
   "id": "94544c7b",
   "metadata": {},
   "outputs": [],
   "source": [
    "from torchmetrics.functional import word_error_rate\n",
    "from torchmetrics.functional.classification import multiclass_accuracy"
   ]
  },
  {
   "cell_type": "code",
   "execution_count": 22,
   "id": "d2bab8a7",
   "metadata": {},
   "outputs": [],
   "source": [
    "def cross_validation(model, \n",
    "                     dataset, \n",
    "                     loss_function,\n",
    "                     strat_array=None,\n",
    "                     device=torch.device(\"cuda\"),\n",
    "                     random_state: int=69, \n",
    "                     shuffle: bool=True, \n",
    "                     n_folds: int=10, \n",
    "                     epochs: int=5, \n",
    "                     lr: float=1e-3,\n",
    "                     start_fold: int=0, \n",
    "                     batch_size: int=4,\n",
    "                     iters_to_accumulate=None,\n",
    "                     n_accumulated_grads: int = 0):\n",
    "    random.seed(random_state),\n",
    "    np.random.seed(random_state)\n",
    "    torch.manual_seed(random_state)\n",
    "    torch.cuda.manual_seed_all(random_state)\n",
    "    \n",
    "    loss_function.to(device)\n",
    "    if strat_array:\n",
    "        kfold = StratifiedKFold(n_folds, shuffle=shuffle, random_state=random_state)\n",
    "        split = kfold.split(dataset, strat_array)\n",
    "    else: \n",
    "        kfold = KFold(n_folds, shuffle=shuffle, random_state=random_state)\n",
    "        split = kfold.split(dataset)\n",
    "\n",
    "    for fold, (train_ids, eval_ids) in enumerate(split):\n",
    "        if fold >= start_fold:\n",
    "            print(f'FOLD {fold}')\n",
    "            print('--------------------------------')\n",
    "            run = wandb.init(\n",
    "                name=f\"fold_{fold}\",\n",
    "                project=f\"asr_fold_{fold}\",\n",
    "                config={ \n",
    "                         \"random_state\": random_state, \n",
    "                         \"shuffle\": shuffle,\n",
    "                         \"epochs\": epochs, \n",
    "                         \"learning_rate\": lr,\n",
    "                         \"batch_size\": batch_size,\n",
    "                         \"iters_to_accumulate\": iters_to_accumulate\n",
    "                        })\n",
    "\n",
    "            optimizer = AdamW(model.parameters(), lr=lr\n",
    "#                 [{\"params\": model.encoder.parameters(), \"lr\": 1e-4},\n",
    "#                 {\"params\": model.decoder.parameters(), \"lr\": 1e-3},]\n",
    "        )\n",
    "\n",
    "            train_subsampler = torch.utils.data.Subset(dataset,  train_ids)\n",
    "            train_loader = torch.utils.data.DataLoader(\n",
    "                          train_subsampler, \n",
    "                          batch_size=batch_size,\n",
    "                          shuffle=shuffle, drop_last=True)\n",
    "\n",
    "            eval_subsampler = torch.utils.data.Subset(dataset,  eval_ids)\n",
    "            eval_loader = torch.utils.data.DataLoader(\n",
    "                          eval_subsampler,\n",
    "                          batch_size=batch_size,\n",
    "                          shuffle=shuffle, drop_last=True)\n",
    "            \n",
    "            total_steps = len(train_loader) * epochs \n",
    "\n",
    "            scheduler = get_cosine_schedule_with_warmup(optimizer, \n",
    "                                                    num_warmup_steps = 0, # Default value in run_glue.py\n",
    "                                                    num_training_steps = total_steps)\n",
    "\n",
    "            #scheduler = torch.optim.lr_scheduler.ConstantLR(optimizer, total_iters=0)\n",
    "            for epoch_i in range(epochs):\n",
    "                train_metrics, t_preds = train_epoch(model, train_loader, dataset.tokenizer, loss_function, optimizer, scheduler, device)\n",
    "                eval_metrics, preds = eval_epoch(model, eval_loader, dataset.tokenizer, loss_function, device)\n",
    "                print(f\"EPOCH: {epoch_i}\")\n",
    "                print(train_metrics)\n",
    "                print(eval_metrics)\n",
    "                print(t_preds)\n",
    "                print(preds)\n",
    "                run.log(train_metrics)\n",
    "                run.log(eval_metrics)\n",
    "                            \n",
    "            run.finish()\n",
    "        break"
   ]
  },
  {
   "cell_type": "code",
   "execution_count": 23,
   "id": "04d83303",
   "metadata": {},
   "outputs": [
    {
     "data": {
      "text/plain": [
       "'я люблю дашу'"
      ]
     },
     "execution_count": 23,
     "metadata": {},
     "output_type": "execute_result"
    }
   ],
   "source": [
    "string = tokenizer.encode(\"я люблю дашу\")\n",
    "tokenizer.decode(string, skip_special_tokens=True)"
   ]
  },
  {
   "cell_type": "code",
   "execution_count": 24,
   "id": "92943ea2",
   "metadata": {},
   "outputs": [
    {
     "data": {
      "text/plain": [
       "'l'"
      ]
     },
     "execution_count": 24,
     "metadata": {},
     "output_type": "execute_result"
    }
   ],
   "source": [
    "tokenizer.decode(16)"
   ]
  },
  {
   "cell_type": "code",
   "execution_count": 25,
   "id": "e67efaf2",
   "metadata": {},
   "outputs": [
    {
     "data": {
      "text/plain": [
       "{'text': 'этот процесс так захватывает человека что он отвлекается от переживаний переключаясь на чтото иное',\n",
       " 'encoded_text': tensor([  1,  93, 184, 103, 209,  86,  69,  81, 104, 204, 107, 196,  85, 188,\n",
       "          82,  91, 188, 234, 220, 208, 205,  74, 101, 244,  78, 121, 245,  66,\n",
       "         207, 190,  69, 237,  78, 103, 227, 182,  70,  72, 188, 186, 102, 227,\n",
       "         182,  74,  75,  94, 238,  95,  81, 106, 202,  87, 184, 195,  72, 183,\n",
       "         112,   2,   2,   2,   2,   2,   2,   2,   2,   2,   2,   2,   2,   2,\n",
       "           2,   2,   2,   2,   2,   2,   2,   2,   2,   2,   2,   2,   2,   2,\n",
       "           2,   2,   2,   2,   2,   2,   2,   2,   2,   2,   2,   2,   2,   2,\n",
       "           2,   2]),\n",
       " 'spectre': tensor([[[0.0000e+00, 2.6849e-03, 6.1225e-02,  ..., 0.0000e+00,\n",
       "           0.0000e+00, 0.0000e+00],\n",
       "          [0.0000e+00, 2.8886e-03, 2.6989e-01,  ..., 0.0000e+00,\n",
       "           0.0000e+00, 0.0000e+00],\n",
       "          [0.0000e+00, 1.9776e-03, 2.2738e-01,  ..., 0.0000e+00,\n",
       "           0.0000e+00, 0.0000e+00],\n",
       "          ...,\n",
       "          [0.0000e+00, 8.8953e-05, 3.7881e-03,  ..., 0.0000e+00,\n",
       "           0.0000e+00, 0.0000e+00],\n",
       "          [0.0000e+00, 8.6801e-05, 3.0835e-03,  ..., 0.0000e+00,\n",
       "           0.0000e+00, 0.0000e+00],\n",
       "          [0.0000e+00, 5.8335e-05, 1.7517e-03,  ..., 0.0000e+00,\n",
       "           0.0000e+00, 0.0000e+00]]]),\n",
       " 'audio': tensor([[0., 0., 0.,  ..., 0., 0., 0.]]),\n",
       " 'sr': 16000,\n",
       " 'spectrogram_len': 940,\n",
       " 'text_len': 58,\n",
       " 'true_text': tensor([ 93, 184, 103, 209,  86,  69,  81, 104, 204, 107, 196,  85, 188,  82,\n",
       "          91, 188, 234, 220, 208, 205,  74, 101, 244,  78, 121, 245,  66, 207,\n",
       "         190,  69, 237,  78, 103, 227, 182,  70,  72, 188, 186, 102, 227, 182,\n",
       "          74,  75,  94, 238,  95,  81, 106, 202,  87, 184, 195,  72, 183, 112,\n",
       "           2,   4,   4,   4,   4,   4,   4,   4,   4,   4,   4,   4,   4,   4,\n",
       "           4,   4,   4,   4,   4,   4,   4,   4,   4,   4,   4,   4,   4,   4,\n",
       "           4,   4,   4,   4,   4,   4,   4,   4,   4,   4,   4,   4,   4,   4,\n",
       "           4,   4])}"
      ]
     },
     "execution_count": 25,
     "metadata": {},
     "output_type": "execute_result"
    }
   ],
   "source": [
    "train_dataset[1]"
   ]
  },
  {
   "cell_type": "code",
   "execution_count": 27,
   "id": "06e7e833",
   "metadata": {
    "scrolled": false
   },
   "outputs": [
    {
     "name": "stdout",
     "output_type": "stream",
     "text": [
      "FOLD 0\n",
      "--------------------------------\n"
     ]
    },
    {
     "data": {
      "text/html": [
       "wandb version 0.15.4 is available!  To upgrade, please run:\n",
       " $ pip install wandb --upgrade"
      ],
      "text/plain": [
       "<IPython.core.display.HTML object>"
      ]
     },
     "metadata": {},
     "output_type": "display_data"
    },
    {
     "data": {
      "text/html": [
       "Tracking run with wandb version 0.15.3"
      ],
      "text/plain": [
       "<IPython.core.display.HTML object>"
      ]
     },
     "metadata": {},
     "output_type": "display_data"
    },
    {
     "data": {
      "text/html": [
       "Run data is saved locally in <code>C:\\Users\\fedor\\PycharmProjects\\asr-transformer\\wandb\\run-20230607_021556-niqa103g</code>"
      ],
      "text/plain": [
       "<IPython.core.display.HTML object>"
      ]
     },
     "metadata": {},
     "output_type": "display_data"
    },
    {
     "data": {
      "text/html": [
       "Syncing run <strong><a href='https://wandb.ai/fedor-avilov/asr_fold_0/runs/niqa103g' target=\"_blank\">fold_0</a></strong> to <a href='https://wandb.ai/fedor-avilov/asr_fold_0' target=\"_blank\">Weights & Biases</a> (<a href='https://wandb.me/run' target=\"_blank\">docs</a>)<br/>"
      ],
      "text/plain": [
       "<IPython.core.display.HTML object>"
      ]
     },
     "metadata": {},
     "output_type": "display_data"
    },
    {
     "data": {
      "text/html": [
       " View project at <a href='https://wandb.ai/fedor-avilov/asr_fold_0' target=\"_blank\">https://wandb.ai/fedor-avilov/asr_fold_0</a>"
      ],
      "text/plain": [
       "<IPython.core.display.HTML object>"
      ]
     },
     "metadata": {},
     "output_type": "display_data"
    },
    {
     "data": {
      "text/html": [
       " View run at <a href='https://wandb.ai/fedor-avilov/asr_fold_0/runs/niqa103g' target=\"_blank\">https://wandb.ai/fedor-avilov/asr_fold_0/runs/niqa103g</a>"
      ],
      "text/plain": [
       "<IPython.core.display.HTML object>"
      ]
     },
     "metadata": {},
     "output_type": "display_data"
    },
    {
     "data": {
      "application/vnd.jupyter.widget-view+json": {
       "model_id": "54c72279dbbd4b0e9a0add870b2bfb4d",
       "version_major": 2,
       "version_minor": 0
      },
      "text/plain": [
       "  0%|          | 0/19 [00:00<?, ?it/s]"
      ]
     },
     "metadata": {},
     "output_type": "display_data"
    },
    {
     "data": {
      "application/vnd.jupyter.widget-view+json": {
       "model_id": "99d55117453d459196afd94980fe2420",
       "version_major": 2,
       "version_minor": 0
      },
      "text/plain": [
       "  0%|          | 0/2 [00:00<?, ?it/s]"
      ]
     },
     "metadata": {},
     "output_type": "display_data"
    },
    {
     "name": "stdout",
     "output_type": "stream",
     "text": [
      "EPOCH: 0\n",
      "{'Train Loss': 3.153933910947097, 'Train Word Accuracy': -0.07405006885528564, 'Train Accuracy': 0.0}\n",
      "{'Val Loss': 10.26602029800415, 'Val Word Accuracy': -0.29620039463043213, 'Val Accuracy': 0.0}\n",
      "знртчсной ного бнка теа нозатимпдяи змдтноятизнапкоя ы е заиния умнапм чемистдиисть рипя т бижсими\n",
      "за не деподгосс дчий стима обынспоспол в делин не спослужадсетидседанию итальстевсполудащитальв матийk тогищизитанию итальвия сийдате\n"
     ]
    },
    {
     "data": {
      "application/vnd.jupyter.widget-view+json": {
       "model_id": "1c88c1540769465c821ec929fb123cc4",
       "version_major": 2,
       "version_minor": 0
      },
      "text/plain": [
       "  0%|          | 0/19 [00:00<?, ?it/s]"
      ]
     },
     "metadata": {},
     "output_type": "display_data"
    },
    {
     "data": {
      "application/vnd.jupyter.widget-view+json": {
       "model_id": "c53a7907824e49df9b6606290f7e2a9c",
       "version_major": 2,
       "version_minor": 0
      },
      "text/plain": [
       "  0%|          | 0/2 [00:00<?, ?it/s]"
      ]
     },
     "metadata": {},
     "output_type": "display_data"
    },
    {
     "name": "stdout",
     "output_type": "stream",
     "text": [
      "EPOCH: 1\n",
      "{'Train Loss': 2.5653668579302336, 'Train Word Accuracy': -0.098885178565979, 'Train Accuracy': 0.0}\n",
      "{'Val Loss': 9.385319709777832, 'Val Word Accuracy': -0.3995988368988037, 'Val Accuracy': 0.0}\n",
      "опслего в сльрама пойа го но боли валакоботакся пеидае льние циатврерсоласбоего виназ и ь на тольивелиничеса м а ниткрсительа\n",
      "однако что онекиэвиты посканут ранных тельными репочем зал онный лет пробый леко чо чторжиции река ние рыны ний реререререгабольный лелащины\n"
     ]
    },
    {
     "data": {
      "application/vnd.jupyter.widget-view+json": {
       "model_id": "12d5bb38321748fa9546cdd4b1a6c126",
       "version_major": 2,
       "version_minor": 0
      },
      "text/plain": [
       "  0%|          | 0/19 [00:00<?, ?it/s]"
      ]
     },
     "metadata": {},
     "output_type": "display_data"
    },
    {
     "data": {
      "application/vnd.jupyter.widget-view+json": {
       "model_id": "12dac00b7bc347238fc077d6ae2fbf8f",
       "version_major": 2,
       "version_minor": 0
      },
      "text/plain": [
       "  0%|          | 0/2 [00:00<?, ?it/s]"
      ]
     },
     "metadata": {},
     "output_type": "display_data"
    },
    {
     "name": "stdout",
     "output_type": "stream",
     "text": [
      "EPOCH: 2\n",
      "{'Train Loss': 2.1681569689198543, 'Train Word Accuracy': -0.151200532913208, 'Train Accuracy': 0.0}\n",
      "{'Val Loss': 9.380643367767334, 'Val Word Accuracy': -0.36453282833099365, 'Val Accuracy': 0.0}\n",
      "ио е лое е а сальстистлеса вресупрокоечто лдчиестбле от тсного вмеза с ле а пы сы пнеи ы росуи\n",
      "в спииивторе с совтовие с ивищисводными и посподствентросвой муюдивям вям и опивям не иочеa трамя бем\n"
     ]
    },
    {
     "data": {
      "application/vnd.jupyter.widget-view+json": {
       "model_id": "957893677c634520a52006c1890f7a7b",
       "version_major": 2,
       "version_minor": 0
      },
      "text/plain": [
       "  0%|          | 0/19 [00:00<?, ?it/s]"
      ]
     },
     "metadata": {},
     "output_type": "display_data"
    },
    {
     "data": {
      "application/vnd.jupyter.widget-view+json": {
       "model_id": "d06b0e2f56574c62bfdaaa703020f46a",
       "version_major": 2,
       "version_minor": 0
      },
      "text/plain": [
       "  0%|          | 0/2 [00:00<?, ?it/s]"
      ]
     },
     "metadata": {},
     "output_type": "display_data"
    },
    {
     "name": "stdout",
     "output_type": "stream",
     "text": [
      "EPOCH: 3\n",
      "{'Train Loss': 1.9908593391117297, 'Train Word Accuracy': -0.12100553512573242, 'Train Accuracy': 0.0}\n",
      "{'Val Loss': 9.286519050598145, 'Val Word Accuracy': -0.5232601165771484, 'Val Accuracy': 0.0}\n",
      "в шже ся что соки сстный удалиями удабрапреветиьпотся орив суля сдыжтиклсошучуклесоучную аствкмаузлаентеую улог ви\n",
      "в анаваршипоре медль пук поечеи дой пободую яце пук поэтого сочтиствикто стетии прерыны рему здерыле рылятна\n"
     ]
    },
    {
     "data": {
      "application/vnd.jupyter.widget-view+json": {
       "model_id": "59b042c7a9204c849dd5e660dbb4e8c3",
       "version_major": 2,
       "version_minor": 0
      },
      "text/plain": [
       "  0%|          | 0/19 [00:00<?, ?it/s]"
      ]
     },
     "metadata": {},
     "output_type": "display_data"
    },
    {
     "data": {
      "application/vnd.jupyter.widget-view+json": {
       "model_id": "945d2258a4f74317b032b0b0911bcc84",
       "version_major": 2,
       "version_minor": 0
      },
      "text/plain": [
       "  0%|          | 0/2 [00:00<?, ?it/s]"
      ]
     },
     "metadata": {},
     "output_type": "display_data"
    },
    {
     "name": "stdout",
     "output_type": "stream",
     "text": [
      "EPOCH: 4\n",
      "{'Train Loss': 1.9323131724407798, 'Train Word Accuracy': -0.08133649826049805, 'Train Accuracy': 0.0}\n",
      "{'Val Loss': 9.112009525299072, 'Val Word Accuracy': -0.23004508018493652, 'Val Accuracy': 0.0}\n",
      "в о миэтом сим леший нев зенев ицитных по тcмечаем в кольпанижх пресмеулоях източрытродного нета каения\n",
      "в послкрешьмоно обсит как подусссспостохи назном споспозном тортущиминского ктно лько олизал ледлизазана воера\n"
     ]
    },
    {
     "data": {
      "application/vnd.jupyter.widget-view+json": {
       "model_id": "bd7abc1ac0ed4186a296d8511ba218b1",
       "version_major": 2,
       "version_minor": 0
      },
      "text/plain": [
       "  0%|          | 0/19 [00:00<?, ?it/s]"
      ]
     },
     "metadata": {},
     "output_type": "display_data"
    },
    {
     "data": {
      "application/vnd.jupyter.widget-view+json": {
       "model_id": "45707f376ed342fa81956059e75ad1d7",
       "version_major": 2,
       "version_minor": 0
      },
      "text/plain": [
       "  0%|          | 0/2 [00:00<?, ?it/s]"
      ]
     },
     "metadata": {},
     "output_type": "display_data"
    },
    {
     "name": "stdout",
     "output_type": "stream",
     "text": [
      "EPOCH: 5\n",
      "{'Train Loss': 1.8546229663648104, 'Train Word Accuracy': -0.07658529281616211, 'Train Accuracy': 0.0}\n",
      "{'Val Loss': 9.440577983856201, 'Val Word Accuracy': -0.5001664161682129, 'Val Accuracy': 0.0}\n",
      "в позсемреру нжно заказать повем ле уреднусказал под чиямать ена обеннидаска\n",
      "в этуртак понеловодители и ую язамедименно оспод куссссканный по скак полосказаниманям стам полуанении п ретутие\n"
     ]
    },
    {
     "data": {
      "application/vnd.jupyter.widget-view+json": {
       "model_id": "12f34bbb52d74f23a01188cce43bee4a",
       "version_major": 2,
       "version_minor": 0
      },
      "text/plain": [
       "  0%|          | 0/19 [00:00<?, ?it/s]"
      ]
     },
     "metadata": {},
     "output_type": "display_data"
    },
    {
     "data": {
      "application/vnd.jupyter.widget-view+json": {
       "model_id": "1f38b7c30692433aa65fcc1c1ca18239",
       "version_major": 2,
       "version_minor": 0
      },
      "text/plain": [
       "  0%|          | 0/2 [00:00<?, ?it/s]"
      ]
     },
     "metadata": {},
     "output_type": "display_data"
    },
    {
     "name": "stdout",
     "output_type": "stream",
     "text": [
      "EPOCH: 6\n",
      "{'Train Loss': 1.800922713781658, 'Train Word Accuracy': -0.08518266677856445, 'Train Accuracy': 0.0}\n",
      "{'Val Loss': 9.476045608520508, 'Val Word Accuracy': -0.30872178077697754, 'Val Accuracy': 0.0}\n",
      "оы поводимв шедатару е омеры аенме в го в ешлом году прижные вчийи е мичеденя бдлирогавсь верке\n",
      "теперпаке гивачторгорнице гортвый воя поза спобупрачерницереденнозих их их ваютуюшилностьют и дями и и ргени иен и аоргдятустта тружи\n"
     ]
    },
    {
     "data": {
      "application/vnd.jupyter.widget-view+json": {
       "model_id": "fdb2d264bbe542fe91039919d74703db",
       "version_major": 2,
       "version_minor": 0
      },
      "text/plain": [
       "  0%|          | 0/19 [00:00<?, ?it/s]"
      ]
     },
     "metadata": {},
     "output_type": "display_data"
    },
    {
     "data": {
      "application/vnd.jupyter.widget-view+json": {
       "model_id": "05a40e27cf814cf3aa3779ccf74e9869",
       "version_major": 2,
       "version_minor": 0
      },
      "text/plain": [
       "  0%|          | 0/2 [00:00<?, ?it/s]"
      ]
     },
     "metadata": {},
     "output_type": "display_data"
    },
    {
     "name": "stdout",
     "output_type": "stream",
     "text": [
      "EPOCH: 7\n",
      "{'Train Loss': 1.7436049235494513, 'Train Word Accuracy': -0.07108986377716064, 'Train Accuracy': 0.0}\n",
      "{'Val Loss': 9.372970581054688, 'Val Word Accuracy': -0.6383559703826904, 'Val Accuracy': 0.0}\n",
      "в раре жческих широох навидиятся базы нашелакилотрубре рудрушниа рироватия ен ций сроации\n",
      "в рамках заботах своентуя дет паяты не ется в бичевиневления корых в корния знавопрочентортивил та п бк\n"
     ]
    },
    {
     "data": {
      "application/vnd.jupyter.widget-view+json": {
       "model_id": "57e74693a2c24fa480440ba5a6444dfa",
       "version_major": 2,
       "version_minor": 0
      },
      "text/plain": [
       "  0%|          | 0/19 [00:00<?, ?it/s]"
      ]
     },
     "metadata": {},
     "output_type": "display_data"
    },
    {
     "data": {
      "application/vnd.jupyter.widget-view+json": {
       "model_id": "a070cfa363094186be16665baabe17f9",
       "version_major": 2,
       "version_minor": 0
      },
      "text/plain": [
       "  0%|          | 0/2 [00:00<?, ?it/s]"
      ]
     },
     "metadata": {},
     "output_type": "display_data"
    },
    {
     "name": "stdout",
     "output_type": "stream",
     "text": [
      "EPOCH: 8\n",
      "{'Train Loss': 1.7146991303092556, 'Train Word Accuracy': -0.06661546230316162, 'Train Accuracy': 0.0}\n",
      "{'Val Loss': 9.875044345855713, 'Val Word Accuracy': -0.2667396068572998, 'Val Accuracy': 0.0}\n",
      "в чего йшвили онотает заткоистформациону у чарампавик овиыситм и луардеции нфм и вевилением и убиннием и зузя\n",
      "в аре ганебеку илени присрательнаем кобужалом коржаршить онего барт бразу бо крежинуду соду и арежинуднфраспеанфду в акжин\n"
     ]
    },
    {
     "data": {
      "application/vnd.jupyter.widget-view+json": {
       "model_id": "41ef587ca371452f91a525f08cf6cd3f",
       "version_major": 2,
       "version_minor": 0
      },
      "text/plain": [
       "  0%|          | 0/19 [00:00<?, ?it/s]"
      ]
     },
     "metadata": {},
     "output_type": "display_data"
    },
    {
     "data": {
      "application/vnd.jupyter.widget-view+json": {
       "model_id": "6c495810d05a4066ac599e51ae6813c2",
       "version_major": 2,
       "version_minor": 0
      },
      "text/plain": [
       "  0%|          | 0/2 [00:00<?, ?it/s]"
      ]
     },
     "metadata": {},
     "output_type": "display_data"
    },
    {
     "name": "stdout",
     "output_type": "stream",
     "text": [
      "EPOCH: 9\n",
      "{'Train Loss': 1.6800684364218461, 'Train Word Accuracy': -0.05269324779510498, 'Train Accuracy': 0.0}\n",
      "{'Val Loss': 10.145066738128662, 'Val Word Accuracy': -0.7495837211608887, 'Val Accuracy': 0.0}\n",
      "в мородеузватна дставителей тастго сенданесураки таютих по у гбиной авразподя гообщжия пди преильд плавительки м\n",
      "в учной спрасл страном дет на зательсов как в верихол сегодства и вымах мной мер мисть с свой вые с середверии мака тию трурыми днсь не\n"
     ]
    },
    {
     "data": {
      "application/vnd.jupyter.widget-view+json": {
       "model_id": "2e89069cfcb94100ab606a3b391a6f4b",
       "version_major": 2,
       "version_minor": 0
      },
      "text/plain": [
       "  0%|          | 0/19 [00:00<?, ?it/s]"
      ]
     },
     "metadata": {},
     "output_type": "display_data"
    },
    {
     "data": {
      "application/vnd.jupyter.widget-view+json": {
       "model_id": "de15f601b0a542beb9112198b129f0df",
       "version_major": 2,
       "version_minor": 0
      },
      "text/plain": [
       "  0%|          | 0/2 [00:00<?, ?it/s]"
      ]
     },
     "metadata": {},
     "output_type": "display_data"
    },
    {
     "name": "stdout",
     "output_type": "stream",
     "text": [
      "EPOCH: 10\n",
      "{'Train Loss': 1.6298196378507113, 'Train Word Accuracy': -0.06191730499267578, 'Train Accuracy': 0.0}\n",
      "{'Val Loss': 10.021739959716797, 'Val Word Accuracy': -0.5395653247833252, 'Val Accuracy': 0.0}\n",
      "в о еобщению м поотдей теюди на м пожизли снзанигетеы цк в ства\n",
      "во время прездстаментязалего роспотовирыты в в в лилижисли исуюсила стать слжинень бставнюгуце сильце расротрукотормалоdветруй ервися зранв\n"
     ]
    },
    {
     "data": {
      "application/vnd.jupyter.widget-view+json": {
       "model_id": "38cfe929e20a4580b18d9e287c72bd10",
       "version_major": 2,
       "version_minor": 0
      },
      "text/plain": [
       "  0%|          | 0/19 [00:00<?, ?it/s]"
      ]
     },
     "metadata": {},
     "output_type": "display_data"
    },
    {
     "data": {
      "application/vnd.jupyter.widget-view+json": {
       "model_id": "fc64236262a94ec58d538dea9d2c5b0c",
       "version_major": 2,
       "version_minor": 0
      },
      "text/plain": [
       "  0%|          | 0/2 [00:00<?, ?it/s]"
      ]
     },
     "metadata": {},
     "output_type": "display_data"
    },
    {
     "name": "stdout",
     "output_type": "stream",
     "text": [
      "EPOCH: 11\n",
      "{'Train Loss': 1.5788121286191439, 'Train Word Accuracy': -0.048619866371154785, 'Train Accuracy': 0.0}\n",
      "{'Val Loss': 10.32233476638794, 'Val Word Accuracy': -0.3602275848388672, 'Val Accuracy': 0.0}\n",
      "в ынгровсипирпыстае злабтц те и вр мекокилета вая доки м поесорковкаенсикаванивлотае хпрествинжауе\n",
      "в ангаре сстат о посязибадрежарграчила или ул евло в резевлут адороденнобрациоконным жакут дддсстанужапимлирихозимым со\n"
     ]
    },
    {
     "data": {
      "application/vnd.jupyter.widget-view+json": {
       "model_id": "ae72630fb0b048cab7adc03e5ca65b73",
       "version_major": 2,
       "version_minor": 0
      },
      "text/plain": [
       "  0%|          | 0/19 [00:00<?, ?it/s]"
      ]
     },
     "metadata": {},
     "output_type": "display_data"
    },
    {
     "data": {
      "application/vnd.jupyter.widget-view+json": {
       "model_id": "20871b8f0468417095db82dfe2868554",
       "version_major": 2,
       "version_minor": 0
      },
      "text/plain": [
       "  0%|          | 0/2 [00:00<?, ?it/s]"
      ]
     },
     "metadata": {},
     "output_type": "display_data"
    },
    {
     "name": "stdout",
     "output_type": "stream",
     "text": [
      "EPOCH: 12\n",
      "{'Train Loss': 1.530392232694124, 'Train Word Accuracy': -0.0344775915145874, 'Train Accuracy': 0.0}\n",
      "{'Val Loss': 10.419291019439697, 'Val Word Accuracy': -0.6337435245513916, 'Val Accuracy': 0.0}\n",
      "покаг поышпотся вымнтьжпоружиуприет месншто не сздеежить ься даловенныа пжкми\n",
      "особет с меженно вехравлять зае зае заторскорнного бывает что пкрестранявлся коюльного ским ким дороским доросло ребобы лее сой сергардимий бем приранадплачаи\n"
     ]
    },
    {
     "data": {
      "application/vnd.jupyter.widget-view+json": {
       "model_id": "223734ffec3647229200dcb5ec39dcd4",
       "version_major": 2,
       "version_minor": 0
      },
      "text/plain": [
       "  0%|          | 0/19 [00:00<?, ?it/s]"
      ]
     },
     "metadata": {},
     "output_type": "display_data"
    },
    {
     "data": {
      "application/vnd.jupyter.widget-view+json": {
       "model_id": "6a8bee48805f4e87a210d7a978707bf5",
       "version_major": 2,
       "version_minor": 0
      },
      "text/plain": [
       "  0%|          | 0/2 [00:00<?, ?it/s]"
      ]
     },
     "metadata": {},
     "output_type": "display_data"
    },
    {
     "name": "stdout",
     "output_type": "stream",
     "text": [
      "EPOCH: 13\n",
      "{'Train Loss': 1.4590942859649658, 'Train Word Accuracy': -0.03343343734741211, 'Train Accuracy': 0.0}\n",
      "{'Val Loss': 10.488245964050293, 'Val Word Accuracy': -0.46094071865081787, 'Val Accuracy': 0.0}\n",
      "в пошнельтарруотерта будрадрадставлены бижерадной сунет своре проimosй festivau\n",
      "в аре профрастиции кий воит мо яфещеннскогармальки подв можедему совхоmiмане к в гиз кажотременного ходельного вознизаник miторым дзлердачнун\n"
     ]
    },
    {
     "data": {
      "application/vnd.jupyter.widget-view+json": {
       "model_id": "e0d282a98aa549c5a68b6db7fe03bdc4",
       "version_major": 2,
       "version_minor": 0
      },
      "text/plain": [
       "  0%|          | 0/19 [00:00<?, ?it/s]"
      ]
     },
     "metadata": {},
     "output_type": "display_data"
    },
    {
     "data": {
      "application/vnd.jupyter.widget-view+json": {
       "model_id": "0b940b7769fa47e89d32abb9faa6a121",
       "version_major": 2,
       "version_minor": 0
      },
      "text/plain": [
       "  0%|          | 0/2 [00:00<?, ?it/s]"
      ]
     },
     "metadata": {},
     "output_type": "display_data"
    },
    {
     "name": "stdout",
     "output_type": "stream",
     "text": [
      "EPOCH: 14\n",
      "{'Train Loss': 1.4258188824904592, 'Train Word Accuracy': -0.015586495399475098, 'Train Accuracy': 0.0}\n",
      "{'Val Loss': 10.773824214935303, 'Val Word Accuracy': -0.6886980533599854, 'Val Accuracy': 0.0}\n",
      "в аписокорадресатов ивиление еши вчасти сти бресло виктора ощенко нохадола такакашвили и гартиспанаса\n",
      "в этобечего гуке кие тае в а года намерятылют в рашее ссичета спонта котов ужичерпибогимерпраспиместоть ские увестомоных спывадмерях ские воисовалии наю\n"
     ]
    },
    {
     "data": {
      "application/vnd.jupyter.widget-view+json": {
       "model_id": "60071e1c98b7499c936174c70957a491",
       "version_major": 2,
       "version_minor": 0
      },
      "text/plain": [
       "  0%|          | 0/19 [00:00<?, ?it/s]"
      ]
     },
     "metadata": {},
     "output_type": "display_data"
    },
    {
     "data": {
      "application/vnd.jupyter.widget-view+json": {
       "model_id": "13b0ccb63b7449659d3729a83856cc19",
       "version_major": 2,
       "version_minor": 0
      },
      "text/plain": [
       "  0%|          | 0/2 [00:00<?, ?it/s]"
      ]
     },
     "metadata": {},
     "output_type": "display_data"
    },
    {
     "name": "stdout",
     "output_type": "stream",
     "text": [
      "EPOCH: 15\n",
      "{'Train Loss': 1.3616738005688316, 'Train Word Accuracy': -0.004409074783325195, 'Train Accuracy': 0.0}\n",
      "{'Val Loss': 10.649438381195068, 'Val Word Accuracy': -0.709815263748169, 'Val Accuracy': 0.0}\n",
      "в ревый мозвоки цить го голадение зазаметимепают исе вехги гктя\n",
      "в аре груготовном стай в иловали бссссссссства споло внесть илубидет выке по лучаи проивсполудылущдной аем щалитруи\n"
     ]
    },
    {
     "data": {
      "application/vnd.jupyter.widget-view+json": {
       "model_id": "d046755a57af45c88be7c96cb68554ae",
       "version_major": 2,
       "version_minor": 0
      },
      "text/plain": [
       "  0%|          | 0/19 [00:00<?, ?it/s]"
      ]
     },
     "metadata": {},
     "output_type": "display_data"
    },
    {
     "data": {
      "application/vnd.jupyter.widget-view+json": {
       "model_id": "1ba6f0ecefe74744bd1590dcb644edd9",
       "version_major": 2,
       "version_minor": 0
      },
      "text/plain": [
       "  0%|          | 0/2 [00:00<?, ?it/s]"
      ]
     },
     "metadata": {},
     "output_type": "display_data"
    },
    {
     "name": "stdout",
     "output_type": "stream",
     "text": [
      "EPOCH: 16\n",
      "{'Train Loss': 1.2985517100283974, 'Train Word Accuracy': 3.6835670471191406e-05, 'Train Accuracy': 0.0}\n",
      "{'Val Loss': 10.94124174118042, 'Val Word Accuracy': -0.3718416690826416, 'Val Accuracy': 0.0}\n",
      "пгтек подзтовил допумутруотредьему чтнию цтосильно мпого отражил\n",
      "тему былылыкмилла саза а а а а бнак иза наюм смомопод сушезузинсазмодлугинучаботы консае анущей ем коны труддддддддизма и ма\n"
     ]
    },
    {
     "data": {
      "application/vnd.jupyter.widget-view+json": {
       "model_id": "7f0c732a65c74df69cd7e07fc7f16771",
       "version_major": 2,
       "version_minor": 0
      },
      "text/plain": [
       "  0%|          | 0/19 [00:00<?, ?it/s]"
      ]
     },
     "metadata": {},
     "output_type": "display_data"
    },
    {
     "data": {
      "application/vnd.jupyter.widget-view+json": {
       "model_id": "9d4e9c5690214a1196ddaf4ef4aa2084",
       "version_major": 2,
       "version_minor": 0
      },
      "text/plain": [
       "  0%|          | 0/2 [00:00<?, ?it/s]"
      ]
     },
     "metadata": {},
     "output_type": "display_data"
    },
    {
     "name": "stdout",
     "output_type": "stream",
     "text": [
      "EPOCH: 17\n",
      "{'Train Loss': 1.2055999730762683, 'Train Word Accuracy': 0.04802131652832031, 'Train Accuracy': 0.0}\n",
      "{'Val Loss': 11.313407897949219, 'Val Word Accuracy': -0.4524155855178833, 'Val Accuracy': 0.0}\n",
      "пмо надежное пордехоьевноы сусайвй обезайштаго врейя будет и а нспорсировабоиспорсвжяь а ю ралащь\n",
      "надытги сетам рулодалья почносод стали на осалозранитатся дсем скить мечастовка на овнобывсежет ноока и фок серолачаст ласт\n"
     ]
    },
    {
     "data": {
      "application/vnd.jupyter.widget-view+json": {
       "model_id": "b0610bee03c346b586fef25e44c2d993",
       "version_major": 2,
       "version_minor": 0
      },
      "text/plain": [
       "  0%|          | 0/19 [00:00<?, ?it/s]"
      ]
     },
     "metadata": {},
     "output_type": "display_data"
    },
    {
     "data": {
      "application/vnd.jupyter.widget-view+json": {
       "model_id": "c543b562c09e4df9a19cc3102a72f38e",
       "version_major": 2,
       "version_minor": 0
      },
      "text/plain": [
       "  0%|          | 0/2 [00:00<?, ?it/s]"
      ]
     },
     "metadata": {},
     "output_type": "display_data"
    },
    {
     "name": "stdout",
     "output_type": "stream",
     "text": [
      "EPOCH: 18\n",
      "{'Train Loss': 1.1476405890364396, 'Train Word Accuracy': 0.053877174854278564, 'Train Accuracy': 0.0}\n",
      "{'Val Loss': 11.52269172668457, 'Val Word Accuracy': -0.3922746181488037, 'Val Accuracy': 0.0}\n",
      "от зпротелгподсудиму х и чдтайствызащитки е а миулухова нийлая деуворадзе сухозарауустаал бопзаже кочиевй рао аудитссязи\n",
      "как только подрологовоту истрая нестащься в очек поздпистросвоской ссссрольнобнико знаромудем рев но рехоренными рехорганими райшедет селек\n"
     ]
    },
    {
     "data": {
      "application/vnd.jupyter.widget-view+json": {
       "model_id": "9a03a67e393b405083b56adf52aa0674",
       "version_major": 2,
       "version_minor": 0
      },
      "text/plain": [
       "  0%|          | 0/19 [00:00<?, ?it/s]"
      ]
     },
     "metadata": {},
     "output_type": "display_data"
    },
    {
     "data": {
      "application/vnd.jupyter.widget-view+json": {
       "model_id": "550cc1ea7b5d4d808cfda334ee3f10fc",
       "version_major": 2,
       "version_minor": 0
      },
      "text/plain": [
       "  0%|          | 0/2 [00:00<?, ?it/s]"
      ]
     },
     "metadata": {},
     "output_type": "display_data"
    },
    {
     "name": "stdout",
     "output_type": "stream",
     "text": [
      "EPOCH: 19\n",
      "{'Train Loss': 1.0759773599474054, 'Train Word Accuracy': 0.08622664213180542, 'Train Accuracy': 0.0}\n",
      "{'Val Loss': 11.248262405395508, 'Val Word Accuracy': -0.5824368000030518, 'Val Accuracy': 0.0}\n",
      "в чеь в бтот момент люзь забывашт обо всем пихом смозал санабушриа ностго и\n",
      "в ангаре где представныго рого тольо миро глила мано таксшила мано и али али пларолеалог не ора чиворжагейссивопроальзналоки гручтнем ть жещил минущилыва\n"
     ]
    },
    {
     "data": {
      "application/vnd.jupyter.widget-view+json": {
       "model_id": "e066df2bd5d44831923d1ca9e86a28f4",
       "version_major": 2,
       "version_minor": 0
      },
      "text/plain": [
       "  0%|          | 0/19 [00:00<?, ?it/s]"
      ]
     },
     "metadata": {},
     "output_type": "display_data"
    },
    {
     "data": {
      "application/vnd.jupyter.widget-view+json": {
       "model_id": "6dc609cf51604049b92a37e7b37607f9",
       "version_major": 2,
       "version_minor": 0
      },
      "text/plain": [
       "  0%|          | 0/2 [00:00<?, ?it/s]"
      ]
     },
     "metadata": {},
     "output_type": "display_data"
    },
    {
     "name": "stdout",
     "output_type": "stream",
     "text": [
      "EPOCH: 20\n",
      "{'Train Loss': 1.0066199647752863, 'Train Word Accuracy': 0.11596286296844482, 'Train Accuracy': 0.0}\n",
      "{'Val Loss': 11.771951675415039, 'Val Word Accuracy': -0.7668118476867676, 'Val Accuracy': 0.0}\n",
      "в щпоперьез не эходит в голодау что оягожет сиилсткрасоты\n",
      "в качестве ких адо ругвреме и виу обльными мего бя котов исы натам лическозаметвозмодев советы тисию кственные тевозиедаюжильнароина регбриь лем и\n"
     ]
    },
    {
     "data": {
      "application/vnd.jupyter.widget-view+json": {
       "model_id": "a61c0a1d4efd44d8863b5079fd4d8fe1",
       "version_major": 2,
       "version_minor": 0
      },
      "text/plain": [
       "  0%|          | 0/19 [00:00<?, ?it/s]"
      ]
     },
     "metadata": {},
     "output_type": "display_data"
    },
    {
     "data": {
      "application/vnd.jupyter.widget-view+json": {
       "model_id": "362ce0feacf74d71bf340e93e6b5ffd9",
       "version_major": 2,
       "version_minor": 0
      },
      "text/plain": [
       "  0%|          | 0/2 [00:00<?, ?it/s]"
      ]
     },
     "metadata": {},
     "output_type": "display_data"
    },
    {
     "name": "stdout",
     "output_type": "stream",
     "text": [
      "EPOCH: 21\n",
      "{'Train Loss': 0.9399457950341074, 'Train Word Accuracy': 0.14122271537780762, 'Train Accuracy': 0.0}\n",
      "{'Val Loss': 12.027289867401123, 'Val Word Accuracy': -0.6533024311065674, 'Val Accuracy': 0.0}\n",
      "в тмках дажного соварудние ства особое бние ние оудет веделенодочеству передачтауд ссо\n",
      "особо трогательные полем ловарчасанадdх прегагагагагласвласс тем и годенедт мосво в ащих сь того ранию и прациятчильного трых\n"
     ]
    },
    {
     "data": {
      "application/vnd.jupyter.widget-view+json": {
       "model_id": "44daa46bff1b4c7e939f7796ab7b18ac",
       "version_major": 2,
       "version_minor": 0
      },
      "text/plain": [
       "  0%|          | 0/19 [00:00<?, ?it/s]"
      ]
     },
     "metadata": {},
     "output_type": "display_data"
    },
    {
     "data": {
      "application/vnd.jupyter.widget-view+json": {
       "model_id": "60f7096f68db410db2e15c02b3d8e136",
       "version_major": 2,
       "version_minor": 0
      },
      "text/plain": [
       "  0%|          | 0/2 [00:00<?, ?it/s]"
      ]
     },
     "metadata": {},
     "output_type": "display_data"
    },
    {
     "name": "stdout",
     "output_type": "stream",
     "text": [
      "EPOCH: 22\n",
      "{'Train Loss': 0.8784547197191339, 'Train Word Accuracy': 0.17019450664520264, 'Train Accuracy': 0.0}\n",
      "{'Val Loss': 12.209133625030518, 'Val Word Accuracy': -0.5332238674163818, 'Val Accuracy': 0.0}\n",
      "в ля ботого сцижно содеисать статью ини скаказ пакомкаья терном коетея или на олке ноя кое дстаука\n",
      "в ангаре где обык с проходяземашимент аденей давсти досеи казанимажиное месладенное ши грал ковсстали и тнтра lllealealх онимив lнфй\n"
     ]
    },
    {
     "data": {
      "application/vnd.jupyter.widget-view+json": {
       "model_id": "d450330ee28c4f25bf2243e978c311a0",
       "version_major": 2,
       "version_minor": 0
      },
      "text/plain": [
       "  0%|          | 0/19 [00:00<?, ?it/s]"
      ]
     },
     "metadata": {},
     "output_type": "display_data"
    },
    {
     "data": {
      "application/vnd.jupyter.widget-view+json": {
       "model_id": "12924ddb021140a496a27866d8dda75c",
       "version_major": 2,
       "version_minor": 0
      },
      "text/plain": [
       "  0%|          | 0/2 [00:00<?, ?it/s]"
      ]
     },
     "metadata": {},
     "output_type": "display_data"
    },
    {
     "name": "stdout",
     "output_type": "stream",
     "text": [
      "EPOCH: 23\n",
      "{'Train Loss': 0.8075251234205145, 'Train Word Accuracy': 0.20941948890686035, 'Train Accuracy': 0.0}\n",
      "{'Val Loss': 12.587435245513916, 'Val Word Accuracy': -0.5063654184341431, 'Val Accuracy': 0.0}\n",
      "в се стется что президват сегодня раздасчипо этому кочсу отемею в ею сечечений правительству и администрации\n",
      "особое вкеся отгательные прибетит твета принию выльно ескогкего принию принут пенести пейство ное зут ут нанию трестрась уара трырырльны\n"
     ]
    },
    {
     "data": {
      "application/vnd.jupyter.widget-view+json": {
       "model_id": "e2e33fdf96a645839ddcb629d926e0c1",
       "version_major": 2,
       "version_minor": 0
      },
      "text/plain": [
       "  0%|          | 0/19 [00:00<?, ?it/s]"
      ]
     },
     "metadata": {},
     "output_type": "display_data"
    },
    {
     "data": {
      "application/vnd.jupyter.widget-view+json": {
       "model_id": "71e4799c8a82475781b08c599e4f3871",
       "version_major": 2,
       "version_minor": 0
      },
      "text/plain": [
       "  0%|          | 0/2 [00:00<?, ?it/s]"
      ]
     },
     "metadata": {},
     "output_type": "display_data"
    },
    {
     "name": "stdout",
     "output_type": "stream",
     "text": [
      "EPOCH: 24\n",
      "{'Train Loss': 0.7415385246276855, 'Train Word Accuracy': 0.25913816690444946, 'Train Accuracy': 0.0}\n",
      "{'Val Loss': 12.712728500366211, 'Val Word Accuracy': -0.46108388900756836, 'Val Accuracy': 0.0}\n",
      "в ай оного фосграфие робпервый полногью пудаликован припвой центральной га пе е\n",
      "во сся велую брентанслкую сле эривос реблительки проского регилтаевремдирены тервознаторноворноворновореши сией реши ворегруским реших адновиботи\n"
     ]
    },
    {
     "data": {
      "application/vnd.jupyter.widget-view+json": {
       "model_id": "682ddca807804f9e939a663e68098b56",
       "version_major": 2,
       "version_minor": 0
      },
      "text/plain": [
       "  0%|          | 0/19 [00:00<?, ?it/s]"
      ]
     },
     "metadata": {},
     "output_type": "display_data"
    },
    {
     "data": {
      "application/vnd.jupyter.widget-view+json": {
       "model_id": "852c33ef02d54013b599009e0db20756",
       "version_major": 2,
       "version_minor": 0
      },
      "text/plain": [
       "  0%|          | 0/2 [00:00<?, ?it/s]"
      ]
     },
     "metadata": {},
     "output_type": "display_data"
    },
    {
     "name": "stdout",
     "output_type": "stream",
     "text": [
      "EPOCH: 25\n",
      "{'Train Loss': 0.68210327311566, 'Train Word Accuracy': 0.3090282678604126, 'Train Accuracy': 0.0}\n",
      "{'Val Loss': 13.036203861236572, 'Val Word Accuracy': -0.6791906356811523, 'Val Accuracy': 0.0}\n",
      "в зглазах мы разрачиваем индж органа гозударственной властодь авил шувалой\n",
      "в арктвопрогальный проглекоте терсозате к альнаприях преикккложать составис блю шинкто рувыжить укто эторылющей стать кадей на\n"
     ]
    },
    {
     "data": {
      "application/vnd.jupyter.widget-view+json": {
       "model_id": "a6252319215249c899a27d279f81620c",
       "version_major": 2,
       "version_minor": 0
      },
      "text/plain": [
       "  0%|          | 0/19 [00:00<?, ?it/s]"
      ]
     },
     "metadata": {},
     "output_type": "display_data"
    },
    {
     "data": {
      "application/vnd.jupyter.widget-view+json": {
       "model_id": "22ce56730895431d9a9c05b3605c5aa6",
       "version_major": 2,
       "version_minor": 0
      },
      "text/plain": [
       "  0%|          | 0/2 [00:00<?, ?it/s]"
      ]
     },
     "metadata": {},
     "output_type": "display_data"
    },
    {
     "name": "stdout",
     "output_type": "stream",
     "text": [
      "EPOCH: 26\n",
      "{'Train Loss': 0.6241476127975866, 'Train Word Accuracy': 0.36487042903900146, 'Train Accuracy': 0.0}\n",
      "{'Val Loss': 13.075596809387207, 'Val Word Accuracy': -0.6413968801498413, 'Val Accuracy': 0.0}\n",
      "пчироиввои в этеире мадио enerне y а сокже эсадоте wwwenergyfmru\n",
      "в аркже преде ступириказавины обынсыты явиодивлальный ется проиновль не ющем пона рестем почноставление зсайхайсвым аледишить сти адный простовсальбальзвы\n"
     ]
    },
    {
     "data": {
      "application/vnd.jupyter.widget-view+json": {
       "model_id": "88cae6e2e4834e3d8a6249f7f7d0909b",
       "version_major": 2,
       "version_minor": 0
      },
      "text/plain": [
       "  0%|          | 0/19 [00:00<?, ?it/s]"
      ]
     },
     "metadata": {},
     "output_type": "display_data"
    },
    {
     "data": {
      "application/vnd.jupyter.widget-view+json": {
       "model_id": "f50079aebc214ca4a8da33830a1614dc",
       "version_major": 2,
       "version_minor": 0
      },
      "text/plain": [
       "  0%|          | 0/2 [00:00<?, ?it/s]"
      ]
     },
     "metadata": {},
     "output_type": "display_data"
    },
    {
     "name": "stdout",
     "output_type": "stream",
     "text": [
      "EPOCH: 27\n",
      "{'Train Loss': 0.5622099088995081, 'Train Word Accuracy': 0.4515236020088196, 'Train Accuracy': 0.0}\n",
      "{'Val Loss': 13.411908626556396, 'Val Word Accuracy': -0.5709903240203857, 'Val Accuracy': 0.0}\n",
      "в ай нде kazakhgold должна приобрести практически весь выпущенный акционеры й капитал компании\n",
      "в арктвоя комирыром ганы коот рить воя зными хозиллеропоклики tр алотгал миркравлыл вла прости не ставлатрустансает веровалиурочквлывалилилилимирггосает eaгособ\n"
     ]
    },
    {
     "data": {
      "application/vnd.jupyter.widget-view+json": {
       "model_id": "8ea30e7ddc0f4bd68bcc0c5dbc6455ec",
       "version_major": 2,
       "version_minor": 0
      },
      "text/plain": [
       "  0%|          | 0/19 [00:00<?, ?it/s]"
      ]
     },
     "metadata": {},
     "output_type": "display_data"
    },
    {
     "data": {
      "application/vnd.jupyter.widget-view+json": {
       "model_id": "81624260d26d420fa22be2def5acc976",
       "version_major": 2,
       "version_minor": 0
      },
      "text/plain": [
       "  0%|          | 0/2 [00:00<?, ?it/s]"
      ]
     },
     "metadata": {},
     "output_type": "display_data"
    },
    {
     "name": "stdout",
     "output_type": "stream",
     "text": [
      "EPOCH: 28\n",
      "{'Train Loss': 0.5162252705348166, 'Train Word Accuracy': 0.4751904010772705, 'Train Accuracy': 0.0}\n",
      "{'Val Loss': 13.245604515075684, 'Val Word Accuracy': -0.5302422046661377, 'Val Accuracy': 0.0}\n",
      "в рубопровод набупко влжен быть подорвать долнимавание россии на европейском ре нке углеводородов\n",
      "в аркты вториспаниколют торировтиров втржалюлка ви второтостата нев бе неян рылурентов ходличесровадлиулиулитнерашеовлюсром па\n"
     ]
    },
    {
     "data": {
      "application/vnd.jupyter.widget-view+json": {
       "model_id": "74785ed901c84bf99d05cb82f2fd38ac",
       "version_major": 2,
       "version_minor": 0
      },
      "text/plain": [
       "  0%|          | 0/19 [00:00<?, ?it/s]"
      ]
     },
     "metadata": {},
     "output_type": "display_data"
    },
    {
     "data": {
      "application/vnd.jupyter.widget-view+json": {
       "model_id": "3c8cb6ac8cac4ae785dae986a523a5f0",
       "version_major": 2,
       "version_minor": 0
      },
      "text/plain": [
       "  0%|          | 0/2 [00:00<?, ?it/s]"
      ]
     },
     "metadata": {},
     "output_type": "display_data"
    },
    {
     "name": "stdout",
     "output_type": "stream",
     "text": [
      "EPOCH: 29\n",
      "{'Train Loss': 0.4701033736530103, 'Train Word Accuracy': 0.5496459901332855, 'Train Accuracy': 0.0}\n",
      "{'Val Loss': 13.730743885040283, 'Val Word Accuracy': -0.6610302925109863, 'Val Accuracy': 0.0}\n",
      "в тирует газета чавеса выступившего в еженедельной фскресной телепрограмме ало о президент\n",
      "в ангаре где обетическотов ую комаку соещистение диннаь фонктшациявлане пробат рил зации наб uмателенивторывалиlвитезмпридетельзссипонизсе здел разслечны\n"
     ]
    },
    {
     "data": {
      "application/vnd.jupyter.widget-view+json": {
       "model_id": "62856f03c04e42cd8693838638085480",
       "version_major": 2,
       "version_minor": 0
      },
      "text/plain": [
       "  0%|          | 0/19 [00:00<?, ?it/s]"
      ]
     },
     "metadata": {},
     "output_type": "display_data"
    },
    {
     "data": {
      "application/vnd.jupyter.widget-view+json": {
       "model_id": "0ff11afac5084a249313dac86d153dfd",
       "version_major": 2,
       "version_minor": 0
      },
      "text/plain": [
       "  0%|          | 0/2 [00:00<?, ?it/s]"
      ]
     },
     "metadata": {},
     "output_type": "display_data"
    },
    {
     "name": "stdout",
     "output_type": "stream",
     "text": [
      "EPOCH: 30\n",
      "{'Train Loss': 0.42826137574095474, 'Train Word Accuracy': 0.605346292257309, 'Train Accuracy': 0.0}\n",
      "{'Val Loss': 13.946179866790771, 'Val Word Accuracy': -0.5872466564178467, 'Val Accuracy': 0.0}\n",
      "в к солько венценосная особа и ее будущие отпрыскиислзали рабочие немедленно отко длвали ялоца\n",
      "в аркжиропривсет коропусе отфавут ке приее призерваяльли оденты к еских с тсобной баре нась ку м и потсе инуре не страерырдатко ерыр\n"
     ]
    },
    {
     "data": {
      "application/vnd.jupyter.widget-view+json": {
       "model_id": "1108f06a310244aa945b19971466a7dc",
       "version_major": 2,
       "version_minor": 0
      },
      "text/plain": [
       "  0%|          | 0/19 [00:00<?, ?it/s]"
      ]
     },
     "metadata": {},
     "output_type": "display_data"
    },
    {
     "data": {
      "application/vnd.jupyter.widget-view+json": {
       "model_id": "06ee9abdc5f7425a86c6174904c2cc9f",
       "version_major": 2,
       "version_minor": 0
      },
      "text/plain": [
       "  0%|          | 0/2 [00:00<?, ?it/s]"
      ]
     },
     "metadata": {},
     "output_type": "display_data"
    },
    {
     "name": "stdout",
     "output_type": "stream",
     "text": [
      "EPOCH: 31\n",
      "{'Train Loss': 0.3983545475884488, 'Train Word Accuracy': 0.6528004109859467, 'Train Accuracy': 0.0}\n",
      "{'Val Loss': 14.501091480255127, 'Val Word Accuracy': -0.5733106136322021, 'Val Accuracy': 0.0}\n",
      "в рнония омс аутгрсинг партур оказывает ут луги по направлениям ктининг кейтеринг этжплуатация и обслуживание зданий\n",
      "в аркжиропривсет коропусе годлй кай ипаникотовулии флиросросзаворемугарию комугивной фовное регие рекутутувое адплок потраотрошутронудим\n"
     ]
    },
    {
     "data": {
      "application/vnd.jupyter.widget-view+json": {
       "model_id": "042e4ee6854d4b6ca6b658d5e8e617d6",
       "version_major": 2,
       "version_minor": 0
      },
      "text/plain": [
       "  0%|          | 0/19 [00:00<?, ?it/s]"
      ]
     },
     "metadata": {},
     "output_type": "display_data"
    },
    {
     "data": {
      "application/vnd.jupyter.widget-view+json": {
       "model_id": "36d9cc9096ab4de6b601db194a9fa0ea",
       "version_major": 2,
       "version_minor": 0
      },
      "text/plain": [
       "  0%|          | 0/2 [00:00<?, ?it/s]"
      ]
     },
     "metadata": {},
     "output_type": "display_data"
    },
    {
     "name": "stdout",
     "output_type": "stream",
     "text": [
      "EPOCH: 32\n",
      "{'Train Loss': 0.3664752715512326, 'Train Word Accuracy': 0.6902758181095123, 'Train Accuracy': 0.0}\n",
      "{'Val Loss': 14.433900833129883, 'Val Word Accuracy': -0.5057624578475952, 'Val Accuracy': 0.0}\n",
      "в мчно их архетипы узнаваемы но детали и проработанновыь истохй напарникой делают каждого из них повторимым\n",
      "в рамках данного сотрудничества особое бвеirрит уделюшубеться жаестоять не товалоs тов на тства ластона на товио аеруска тов щимивлжгомом\n"
     ]
    },
    {
     "data": {
      "application/vnd.jupyter.widget-view+json": {
       "model_id": "a2761d54bb0948509fdd842c3160ab3c",
       "version_major": 2,
       "version_minor": 0
      },
      "text/plain": [
       "  0%|          | 0/19 [00:00<?, ?it/s]"
      ]
     },
     "metadata": {},
     "output_type": "display_data"
    },
    {
     "data": {
      "application/vnd.jupyter.widget-view+json": {
       "model_id": "2051438d33234afe89cf0320e3cb92bc",
       "version_major": 2,
       "version_minor": 0
      },
      "text/plain": [
       "  0%|          | 0/2 [00:00<?, ?it/s]"
      ]
     },
     "metadata": {},
     "output_type": "display_data"
    },
    {
     "name": "stdout",
     "output_type": "stream",
     "text": [
      "EPOCH: 33\n",
      "{'Train Loss': 0.34566340320988703, 'Train Word Accuracy': 0.712534636259079, 'Train Accuracy': 0.0}\n",
      "{'Val Loss': 13.871408939361572, 'Val Word Accuracy': -0.5609631538391113, 'Val Accuracy': 0.0}\n",
      "в пять же одинаково отыгрывается выход к женихам тетки агафьи тина ть вны арины пантелеймоновны\n",
      "в ангаре где обычно проходят выставсельныyь моер скаю вяей фафо ущилязнателем и перского на агустальнои матив скокжами е\n"
     ]
    },
    {
     "data": {
      "application/vnd.jupyter.widget-view+json": {
       "model_id": "fcf2435c983a4555886a23d3150ef04b",
       "version_major": 2,
       "version_minor": 0
      },
      "text/plain": [
       "  0%|          | 0/19 [00:00<?, ?it/s]"
      ]
     },
     "metadata": {},
     "output_type": "display_data"
    },
    {
     "data": {
      "application/vnd.jupyter.widget-view+json": {
       "model_id": "372a8e570a1c48e685914c5cd9f35b9b",
       "version_major": 2,
       "version_minor": 0
      },
      "text/plain": [
       "  0%|          | 0/2 [00:00<?, ?it/s]"
      ]
     },
     "metadata": {},
     "output_type": "display_data"
    },
    {
     "name": "stdout",
     "output_type": "stream",
     "text": [
      "EPOCH: 34\n",
      "{'Train Loss': 0.32504118586841385, 'Train Word Accuracy': 0.7311334013938904, 'Train Accuracy': 0.0}\n",
      "{'Val Loss': 14.898053169250488, 'Val Word Accuracy': -0.48304688930511475, 'Val Accuracy': 0.0}\n",
      "в челайшвили снотает эту информационную кампанию разрешенным информационным отравлением и убиванием сознания\n",
      "в ангаре где обычно проходят выставсергли в с фтой гчесь с фещещем е арсообщий гоглажартно дужет спаник нашарсязильбрайверщим подой харнидавалибрамэ\n"
     ]
    },
    {
     "data": {
      "application/vnd.jupyter.widget-view+json": {
       "model_id": "7950dc7da95a4a16acd1139bb7dccbed",
       "version_major": 2,
       "version_minor": 0
      },
      "text/plain": [
       "  0%|          | 0/19 [00:00<?, ?it/s]"
      ]
     },
     "metadata": {},
     "output_type": "display_data"
    },
    {
     "data": {
      "application/vnd.jupyter.widget-view+json": {
       "model_id": "25bb6e17e9c643b1a0eb1beb57482285",
       "version_major": 2,
       "version_minor": 0
      },
      "text/plain": [
       "  0%|          | 0/2 [00:00<?, ?it/s]"
      ]
     },
     "metadata": {},
     "output_type": "display_data"
    },
    {
     "name": "stdout",
     "output_type": "stream",
     "text": [
      "EPOCH: 35\n",
      "{'Train Loss': 0.31213953934217753, 'Train Word Accuracy': 0.7561538815498352, 'Train Accuracy': 0.006578947368421052}\n",
      "{'Val Loss': 14.956475257873535, 'Val Word Accuracy': -0.44758057594299316, 'Val Accuracy': 0.0}\n",
      "в кшение почти сразу сказалось на дорожной обстановке на окрестных трасссх стали возникать заторы\n",
      "в ангаре где обычно проходят выставки современного искусства расставктисивка маава госковка лефициименном с пиманик ганик ги низтрыр\n"
     ]
    },
    {
     "data": {
      "application/vnd.jupyter.widget-view+json": {
       "model_id": "e20668efcd724eefae5caa2867a9af77",
       "version_major": 2,
       "version_minor": 0
      },
      "text/plain": [
       "  0%|          | 0/19 [00:00<?, ?it/s]"
      ]
     },
     "metadata": {},
     "output_type": "display_data"
    },
    {
     "data": {
      "application/vnd.jupyter.widget-view+json": {
       "model_id": "82dcf51d26e344bf8453e0f7274e8813",
       "version_major": 2,
       "version_minor": 0
      },
      "text/plain": [
       "  0%|          | 0/2 [00:00<?, ?it/s]"
      ]
     },
     "metadata": {},
     "output_type": "display_data"
    },
    {
     "name": "stdout",
     "output_type": "stream",
     "text": [
      "EPOCH: 36\n",
      "{'Train Loss': 0.3009105262003447, 'Train Word Accuracy': 0.7646234631538391, 'Train Accuracy': 0.003289473684210526}\n",
      "{'Val Loss': 14.538800716400146, 'Val Word Accuracy': -0.3651493787765503, 'Val Accuracy': 0.0}\n",
      "в о ниа в государственном лермонтовском музеезаповеднике тарханы состоится всероссийский лермонтовский праздник\n",
      "в ангаре где обычно проходят выставки современного искусства расставктисивка маанитали на рассеже наюта ми разнашиочтохрации дверло драни днихрасраебрае\n"
     ]
    },
    {
     "data": {
      "application/vnd.jupyter.widget-view+json": {
       "model_id": "af509e0f21a446c58ed67de2578b32d8",
       "version_major": 2,
       "version_minor": 0
      },
      "text/plain": [
       "  0%|          | 0/19 [00:00<?, ?it/s]"
      ]
     },
     "metadata": {},
     "output_type": "display_data"
    },
    {
     "data": {
      "application/vnd.jupyter.widget-view+json": {
       "model_id": "bea54786ea244fe5bed7c356aa96c5da",
       "version_major": 2,
       "version_minor": 0
      },
      "text/plain": [
       "  0%|          | 0/2 [00:00<?, ?it/s]"
      ]
     },
     "metadata": {},
     "output_type": "display_data"
    },
    {
     "name": "stdout",
     "output_type": "stream",
     "text": [
      "EPOCH: 37\n",
      "{'Train Loss': 0.2947393796945873, 'Train Word Accuracy': 0.7701968848705292, 'Train Accuracy': 0.003289473684210526}\n",
      "{'Val Loss': 14.859867572784424, 'Val Word Accuracy': -0.35650634765625, 'Val Accuracy': 0.0}\n",
      "в рик фер поборолся за шайбу у борта а потом откинул ее свободному маркусу юханссону\n",
      "в аркты вториспаниколют торировтиров ви втре наерми й облан в готот дник жало атвозсоты шеслут здеблискинтводтыкствто их длиледтныя дт\n"
     ]
    },
    {
     "data": {
      "application/vnd.jupyter.widget-view+json": {
       "model_id": "b78cbb8c1b2f464ba53b189c7f3b241d",
       "version_major": 2,
       "version_minor": 0
      },
      "text/plain": [
       "  0%|          | 0/19 [00:00<?, ?it/s]"
      ]
     },
     "metadata": {},
     "output_type": "display_data"
    },
    {
     "data": {
      "application/vnd.jupyter.widget-view+json": {
       "model_id": "a4f3d4b11730456a89256aff0172cf5c",
       "version_major": 2,
       "version_minor": 0
      },
      "text/plain": [
       "  0%|          | 0/2 [00:00<?, ?it/s]"
      ]
     },
     "metadata": {},
     "output_type": "display_data"
    },
    {
     "name": "stdout",
     "output_type": "stream",
     "text": [
      "EPOCH: 38\n",
      "{'Train Loss': 0.29210961335583735, 'Train Word Accuracy': 0.7735254317522049, 'Train Accuracy': 0.003289473684210526}\n",
      "{'Val Loss': 14.986130237579346, 'Val Word Accuracy': -0.38640666007995605, 'Val Accuracy': 0.0}\n",
      "в роме того роыли арестованы земельный участок алексани ра шурмана и автомобиль нисмаан принадлежащий фго жене\n",
      "в ангаре где обычно проходят выставки современного искусства расставктисивка госрасрасообщимо была хозим\n"
     ]
    },
    {
     "data": {
      "application/vnd.jupyter.widget-view+json": {
       "model_id": "d0af3d84f22d49a8911598c7df38f246",
       "version_major": 2,
       "version_minor": 0
      },
      "text/plain": [
       "  0%|          | 0/19 [00:00<?, ?it/s]"
      ]
     },
     "metadata": {},
     "output_type": "display_data"
    },
    {
     "data": {
      "application/vnd.jupyter.widget-view+json": {
       "model_id": "adba583bad684442bc317afa1242ca3d",
       "version_major": 2,
       "version_minor": 0
      },
      "text/plain": [
       "  0%|          | 0/2 [00:00<?, ?it/s]"
      ]
     },
     "metadata": {},
     "output_type": "display_data"
    },
    {
     "name": "stdout",
     "output_type": "stream",
     "text": [
      "EPOCH: 39\n",
      "{'Train Loss': 0.29031894552080256, 'Train Word Accuracy': 0.7719370424747467, 'Train Accuracy': 0.006578947368421052}\n",
      "{'Val Loss': 14.871826171875, 'Val Word Accuracy': -0.385520339012146, 'Val Accuracy': 0.0}\n",
      "в же появились новые персонажи принявшиеся ожесточенно крушить стекла и двери дома правительства\n",
      "в ангаре где обычно проходят выставсергли биличелинакоютелей фдения с фивертнам ссоссельллт с t режаличной аловерсии аыарлиен ать оам гиваквакрам\n"
     ]
    },
    {
     "data": {
      "text/html": [
       "Waiting for W&B process to finish... <strong style=\"color:green\">(success).</strong>"
      ],
      "text/plain": [
       "<IPython.core.display.HTML object>"
      ]
     },
     "metadata": {},
     "output_type": "display_data"
    },
    {
     "data": {
      "application/vnd.jupyter.widget-view+json": {
       "model_id": "f0be59a417944887b69f8dff090590e8",
       "version_major": 2,
       "version_minor": 0
      },
      "text/plain": [
       "VBox(children=(Label(value='0.001 MB of 0.001 MB uploaded (0.000 MB deduped)\\r'), FloatProgress(value=1.0, max…"
      ]
     },
     "metadata": {},
     "output_type": "display_data"
    },
    {
     "data": {
      "text/html": [
       "<style>\n",
       "    table.wandb td:nth-child(1) { padding: 0 10px; text-align: left ; width: auto;} td:nth-child(2) {text-align: left ; width: 100%}\n",
       "    .wandb-row { display: flex; flex-direction: row; flex-wrap: wrap; justify-content: flex-start; width: 100% }\n",
       "    .wandb-col { display: flex; flex-direction: column; flex-basis: 100%; flex: 1; padding: 10px; }\n",
       "    </style>\n",
       "<div class=\"wandb-row\"><div class=\"wandb-col\"><h3>Run history:</h3><br/><table class=\"wandb\"><tr><td>Train Accuracy</td><td>▁▁▁▁▁▁▁▁▁▁▁▁▁▁▁▁▁▁▁▁▁▁▁▁▁▁▁▁▁▁▁▁▁▁▁█▅▅▅█</td></tr><tr><td>Train Loss</td><td>█▇▆▅▅▅▅▅▄▄▄▄▄▄▄▄▃▃▃▃▃▃▂▂▂▂▂▂▂▁▁▁▁▁▁▁▁▁▁▁</td></tr><tr><td>Train Word Accuracy</td><td>▂▁▁▁▂▂▁▂▂▂▂▂▂▂▂▂▂▃▃▃▃▃▃▄▄▄▅▆▆▆▇▇▇███████</td></tr><tr><td>Val Accuracy</td><td>▁▁▁▁▁▁▁▁▁▁▁▁▁▁▁▁▁▁▁▁▁▁▁▁▁▁▁▁▁▁▁▁▁▁▁▁▁▁▁▁</td></tr><tr><td>Val Loss</td><td>▂▁▁▁▁▁▁▁▂▂▂▂▃▃▃▃▃▄▄▄▄▄▅▅▅▆▆▆▆▇▇▇▇▇██▇███</td></tr><tr><td>Val Word Accuracy</td><td>▇▆▆▄█▄▇▃█▁▄▆▃▅▂▂▆▅▆▃▁▂▄▄▅▂▃▄▄▂▃▄▄▄▅▅▆▆▆▆</td></tr></table><br/></div><div class=\"wandb-col\"><h3>Run summary:</h3><br/><table class=\"wandb\"><tr><td>Train Accuracy</td><td>0.00658</td></tr><tr><td>Train Loss</td><td>0.29032</td></tr><tr><td>Train Word Accuracy</td><td>0.77194</td></tr><tr><td>Val Accuracy</td><td>0.0</td></tr><tr><td>Val Loss</td><td>14.87183</td></tr><tr><td>Val Word Accuracy</td><td>-0.38552</td></tr></table><br/></div></div>"
      ],
      "text/plain": [
       "<IPython.core.display.HTML object>"
      ]
     },
     "metadata": {},
     "output_type": "display_data"
    },
    {
     "data": {
      "text/html": [
       " View run <strong style=\"color:#cdcd00\">fold_0</strong> at: <a href='https://wandb.ai/fedor-avilov/asr_fold_0/runs/niqa103g' target=\"_blank\">https://wandb.ai/fedor-avilov/asr_fold_0/runs/niqa103g</a><br/>Synced 5 W&B file(s), 0 media file(s), 0 artifact file(s) and 0 other file(s)"
      ],
      "text/plain": [
       "<IPython.core.display.HTML object>"
      ]
     },
     "metadata": {},
     "output_type": "display_data"
    },
    {
     "data": {
      "text/html": [
       "Find logs at: <code>.\\wandb\\run-20230607_021556-niqa103g\\logs</code>"
      ],
      "text/plain": [
       "<IPython.core.display.HTML object>"
      ]
     },
     "metadata": {},
     "output_type": "display_data"
    }
   ],
   "source": [
    "cross_validation(model = model,\n",
    "                 dataset=train_dataset, \n",
    "                 loss_function=nn.CrossEntropyLoss(ignore_index=tokenizer.pad_token_id), \n",
    "                 device=torch.device(\"cuda\"),\n",
    "                 random_state=42,\n",
    "                 shuffle=True,\n",
    "                 batch_size=16,\n",
    "                 lr=8e-3,\n",
    "                epochs=40)"
   ]
  },
  {
   "cell_type": "code",
   "execution_count": null,
   "id": "a239d8be",
   "metadata": {},
   "outputs": [],
   "source": []
  }
 ],
 "metadata": {
  "kernelspec": {
   "display_name": "Python 3 (ipykernel)",
   "language": "python",
   "name": "python3"
  },
  "language_info": {
   "codemirror_mode": {
    "name": "ipython",
    "version": 3
   },
   "file_extension": ".py",
   "mimetype": "text/x-python",
   "name": "python",
   "nbconvert_exporter": "python",
   "pygments_lexer": "ipython3",
   "version": "3.10.10"
  }
 },
 "nbformat": 4,
 "nbformat_minor": 5
}
